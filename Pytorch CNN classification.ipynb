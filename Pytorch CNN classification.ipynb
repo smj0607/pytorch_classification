{
 "cells": [
  {
   "cell_type": "code",
   "execution_count": 29,
   "id": "12c2203d",
   "metadata": {},
   "outputs": [
    {
     "data": {
      "text/plain": [
       "'\\n전체적인 구조\\n\\n#첫 번째 레이어\\n합성곱(in_channel = 1, out_channel = 32, kennel_size = 3, stride = 1, padding = 1) + 활성화 함수(Activation function)PeLU\\n맥스플링(kernel_size=2, stride=2)\\n\\n#두 번째 레이어\\n합성곱(in_channel = 23, out_channel = 64, kennel_size = 3, stride = 1, padding = 1) + 활성화 함수(Activation function)PeLU\\n\\n#세 번째 레이어\\nbatch_size x 7 x 7 x 64 => batch size = 3136(특성맵을 펼치는 레이어)\\nFully connected(전결합층 뉴런 10개) + 활성화 함수 softmax\\n'"
      ]
     },
     "execution_count": 29,
     "metadata": {},
     "output_type": "execute_result"
    }
   ],
   "source": [
    "\"\"\"\n",
    "전체적인 구조\n",
    "\n",
    "#첫 번째 레이어\n",
    "합성곱(in_channel = 1, out_channel = 32, kennel_size = 3, stride = 1, padding = 1) + 활성화 함수(Activation function)PeLU\n",
    "맥스플링(kernel_size=2, stride=2)\n",
    "\n",
    "#두 번째 레이어\n",
    "합성곱(in_channel = 23, out_channel = 64, kennel_size = 3, stride = 1, padding = 1) + 활성화 함수(Activation function)PeLU\n",
    "\n",
    "#세 번째 레이어\n",
    "batch_size x 7 x 7 x 64 => batch size = 3136(특성맵을 펼치는 레이어)\n",
    "Fully connected(전결합층 뉴런 10개) + 활성화 함수 softmax\n",
    "\"\"\""
   ]
  },
  {
   "cell_type": "code",
   "execution_count": 30,
   "id": "890d8737",
   "metadata": {},
   "outputs": [],
   "source": [
    "#구현에 필요한 라이브러리 불러오기\n",
    "\n",
    "import torch\n",
    "import torch.nn as nn\n",
    "#as를 선언하지 않았을 경우 torch.nn.Conv2d() \n",
    "#as를 선언했을 경우 nn.Conv2d()"
   ]
  },
  {
   "cell_type": "code",
   "execution_count": 31,
   "id": "25e3e12f",
   "metadata": {},
   "outputs": [
    {
     "name": "stdout",
     "output_type": "stream",
     "text": [
      "텐서의 크기:() torch.Size([1, 1, 28, 28])\n"
     ]
    }
   ],
   "source": [
    "#임의의 텐서 생성 (1,1,28,28) => MNIST데이터\n",
    "inputs = torch.Tensor(1,1,28,28)\n",
    "print(\"텐서의 크기:()\", format(inputs.shape))"
   ]
  },
  {
   "cell_type": "code",
   "execution_count": 32,
   "id": "2fa0b945",
   "metadata": {},
   "outputs": [
    {
     "name": "stdout",
     "output_type": "stream",
     "text": [
      "Conv2d(1, 32, kernel_size=(3, 3), stride=(1, 1), padding=(1, 1))\n"
     ]
    }
   ],
   "source": [
    "#첫 번째 합성곱층 선언하기\n",
    "conv1 = nn.Conv2d(1, 32, 3, padding=1) #Conv2d내의 인지값 (input_channel, output_channel, 커넬 사이즈, 패딩)\n",
    "print(conv1)"
   ]
  },
  {
   "cell_type": "code",
   "execution_count": 33,
   "id": "d26ce52f",
   "metadata": {},
   "outputs": [
    {
     "name": "stdout",
     "output_type": "stream",
     "text": [
      "Conv2d(32, 64, kernel_size=(3, 3), stride=(1, 1), padding=(1, 1))\n"
     ]
    }
   ],
   "source": [
    "#두 번째 합성곱층 선언하기\n",
    "conv2 = nn.Conv2d(32, 64, 3, padding = 1)\n",
    "print(conv2)"
   ]
  },
  {
   "cell_type": "code",
   "execution_count": 34,
   "id": "83fc5da3",
   "metadata": {},
   "outputs": [
    {
     "name": "stdout",
     "output_type": "stream",
     "text": [
      "MaxPool2d(kernel_size=2, stride=2, padding=0, dilation=1, ceil_mode=False)\n"
     ]
    }
   ],
   "source": [
    "#세 번째 합성곱층 선언하기\n",
    "pool = nn.MaxPool2d(2) #간단한 선언하면 선언 된 하나의 정수값을 kernel size, stride가 결정되게 한다.\n",
    "print(pool)\n",
    "\n",
    "#pool=nn.MaxPool2d(kernel_size=2, stride=2, padding=0, dilation=1,ceil_mode=False)"
   ]
  },
  {
   "cell_type": "code",
   "execution_count": 35,
   "id": "51e5ae98",
   "metadata": {},
   "outputs": [
    {
     "name": "stdout",
     "output_type": "stream",
     "text": [
      "torch.Size([1, 32, 28, 28])\n"
     ]
    }
   ],
   "source": [
    "#선언 된 레이어를 연결하는 과정\n",
    "#첫번째 레이어 지나가기\n",
    "out = conv1(inputs)\n",
    "print(out.shape)"
   ]
  },
  {
   "cell_type": "code",
   "execution_count": 36,
   "id": "7fee9d01",
   "metadata": {},
   "outputs": [
    {
     "name": "stdout",
     "output_type": "stream",
     "text": [
      "torch.Size([1, 32, 14, 14])\n"
     ]
    }
   ],
   "source": [
    "#컨벌루셔널 레이어를 거쳐 갈 경우 마지막에 pooling layer가 존재함.\n",
    "out = pool(out)\n",
    "print(out.shape)"
   ]
  },
  {
   "cell_type": "code",
   "execution_count": 37,
   "id": "b4a644c0",
   "metadata": {},
   "outputs": [
    {
     "name": "stdout",
     "output_type": "stream",
     "text": [
      "torch.Size([1, 64, 14, 14])\n"
     ]
    }
   ],
   "source": [
    "#두 번째 레이어 지나가기\n",
    "out = conv2(out)\n",
    "print(out.shape)"
   ]
  },
  {
   "cell_type": "code",
   "execution_count": 38,
   "id": "920c1f8c",
   "metadata": {},
   "outputs": [
    {
     "name": "stdout",
     "output_type": "stream",
     "text": [
      "torch.Size([1, 64, 7, 7])\n"
     ]
    }
   ],
   "source": [
    "out = pool(out)\n",
    "print(out.shape)"
   ]
  },
  {
   "cell_type": "code",
   "execution_count": 39,
   "id": "918862b8",
   "metadata": {},
   "outputs": [
    {
     "name": "stdout",
     "output_type": "stream",
     "text": [
      "torch.Size([1, 3136])\n"
     ]
    }
   ],
   "source": [
    "#view()함수를 사용해서 텐서를 펼치는 작업(텐서를 통합한다.)\n",
    "out = out.view(out.size(0),-1)\n",
    "print(out.shape)"
   ]
  },
  {
   "cell_type": "code",
   "execution_count": 40,
   "id": "fc6ba2d9",
   "metadata": {},
   "outputs": [
    {
     "name": "stdout",
     "output_type": "stream",
     "text": [
      "torch.Size([1, 10])\n"
     ]
    }
   ],
   "source": [
    "fc = nn.Linear(3136, 10) #fully connected : 전체를 연결(기초적인 신경망) 통합된 텐서를 통해 0~9까지의 결과를 갖게 되기 때문에 10개의 output\n",
    "out = fc(out)\n",
    "print(out.shape)\n",
    "\n",
    "#전체 모델은 설정 과정"
   ]
  },
  {
   "cell_type": "code",
   "execution_count": 42,
   "id": "47b0a05b",
   "metadata": {},
   "outputs": [],
   "source": [
    "#위에서 선언한 신경망을 통해서 MNIST(숫자, 데이터셋) 분류 문제 해결하기\n",
    "import torch\n",
    "import torchvision.datasets as dsets\n",
    "import torchvision.transforms as transforms\n",
    "import torch.nn.init"
   ]
  },
  {
   "cell_type": "code",
   "execution_count": 45,
   "id": "cf98bc3e",
   "metadata": {},
   "outputs": [],
   "source": [
    "device = 'cuda' if torch.cuda.is_available() else'cpu'\n",
    "#torch.cuda.is_available()함수는 False/True의 boolean형태로 나타나게 되는데, CUDA를 사용 가능할 경우 True를 반환하기 때문에\n",
    "#if조건을 만족하는 device  = 'cuda'가 되고, 사용이 불가능할 경우 False를 반환하기 때문에 else 조건을 만족하는 device = 'cpu'가 됨.\n",
    "\n",
    "\n",
    "#GPU 사용시에 고정시킬 시드를 선언\n",
    "torch.manual_seed(777)\n",
    "\n",
    "#만약 CPU가 아닌 GPU를 사용해서 훈련을 진행할 경우 고정 된 시드를 통해 GPU로 학습\n",
    "if device =='cuda':\n",
    "    torch.cuda.manual_seed_all(777)"
   ]
  },
  {
   "cell_type": "code",
   "execution_count": 46,
   "id": "1ede68e4",
   "metadata": {},
   "outputs": [
    {
     "name": "stdout",
     "output_type": "stream",
     "text": [
      "True\n"
     ]
    }
   ],
   "source": [
    "print(torch.cuda.is_available())"
   ]
  },
  {
   "cell_type": "code",
   "execution_count": 72,
   "id": "71cf78e4",
   "metadata": {},
   "outputs": [],
   "source": [
    "#학습에 사용되는 변수(파라미터들: 학습률, 에폭, 배치사이즈 등) 선언\n",
    "learning_rate = 0.001\n",
    "training_epoch = 15\n",
    "batch_size = 100"
   ]
  },
  {
   "cell_type": "code",
   "execution_count": 77,
   "id": "6aeeb1cf",
   "metadata": {},
   "outputs": [],
   "source": [
    "#MNIST train, test 데이터셋을 torchvision.datasets를 통해 비교적으로 쉽게 가져오기\n",
    "mnist_train = dsets.MNIST(root = 'MNIST_data/',\n",
    "                         train=True,\n",
    "                         transform=transforms.ToTensor(),\n",
    "                         download=True)\n",
    "mnist_test = dsets.MNIST(root = 'MNIST_data/',\n",
    "                         train=False,\n",
    "                         transform=transforms.ToTensor(),\n",
    "                         download=True)"
   ]
  },
  {
   "cell_type": "code",
   "execution_count": 78,
   "id": "e5c5ff62",
   "metadata": {},
   "outputs": [],
   "source": [
    "#데이터로더를 이용하여 배치크기를 지정\n",
    "data_loader = torch.utils.data.DataLoader(dataset=mnist_train,\n",
    "                                        batch_size=batch_size,\n",
    "                                        shuffle=True,\n",
    "                                        drop_last = True)"
   ]
  },
  {
   "cell_type": "code",
   "execution_count": 99,
   "id": "52fa821f",
   "metadata": {},
   "outputs": [],
   "source": [
    "class CNN(torch.nn.Module): #CNN구조를 사용한 모델을 선언하기 위한 클래스\n",
    "    def __init__(self): #초기화 함수, 동시에 모델의 구조를 선언하는 함수\n",
    "        super(CNN, self).__init__()\n",
    "        \n",
    "        self.layer1 = torch.nn.Sequential(torch.nn.Conv2d(1,32, kernel_size=3, stride=1, padding=1),\n",
    "                                         torch.nn.ReLU(),\n",
    "                                         torch.nn.MaxPool2d(kernel_size=2, stride=2))\n",
    "        self.layer2 = torch.nn.Sequential(torch.nn.Conv2d(32,64, kernel_size=3, stride=1, padding=1),\n",
    "                                         torch.nn.ReLU(),\n",
    "                                         torch.nn.MaxPool2d(kernel_size=2, stride=2))\n",
    "        self.fc = torch.nn.Linear(7 * 7 * 64, 10, bias=True )\n",
    "        \n",
    "        torch.nn.init.xavier_uniform(self.fc.weight)\n",
    "        \n",
    "        \n",
    "    def forward(self,x):\n",
    "        out = self.layer1(x)\n",
    "        out = self.layer2(out)\n",
    "        out = out.view(out.size(0),-1)\n",
    "        out = self.fc(out)\n",
    "        \n",
    "        return out"
   ]
  },
  {
   "cell_type": "code",
   "execution_count": 100,
   "id": "5f1e7a1b",
   "metadata": {},
   "outputs": [
    {
     "name": "stderr",
     "output_type": "stream",
     "text": [
      "C:\\Users\\18\\AppData\\Local\\Temp/ipykernel_4840/3068834243.py:13: UserWarning: nn.init.xavier_uniform is now deprecated in favor of nn.init.xavier_uniform_.\n",
      "  torch.nn.init.xavier_uniform(self.fc.weight)\n"
     ]
    }
   ],
   "source": [
    "model = CNN().to(device)\n",
    "#MODEL이라는 객체를 통해서 CNN 클래스가 선언이 되고, 이는. to(device)를 통해 gpu에서 연산을 하게 됨"
   ]
  },
  {
   "cell_type": "code",
   "execution_count": 103,
   "id": "e77679b2",
   "metadata": {},
   "outputs": [],
   "source": [
    "#비용함수(cost function, loss function)은 크로스엔트로피로 선언\n",
    "#옵티마이저는 Adam으로 설정\n",
    "criterion = torch.nn.CrossEntropyLoss().to(device)\n",
    "optimizer = torch.optim.Adam(model.parameters(), lr=learning_rate)"
   ]
  },
  {
   "cell_type": "code",
   "execution_count": 109,
   "id": "53f6073b",
   "metadata": {},
   "outputs": [
    {
     "name": "stdout",
     "output_type": "stream",
     "text": [
      "총 배치의 수 :600\n"
     ]
    }
   ],
   "source": [
    "total_batch = len(data_loader)\n",
    "print('총 배치의 수 :{}'.format(total_batch))\n",
    "\n",
    "#MNIST dataset은 60,000개의 데이터를 가지고 있는데, batch_size를 100번으로 설정했으므로 총 600의 batch_size를 가지게 됨."
   ]
  },
  {
   "cell_type": "code",
   "execution_count": 116,
   "id": "830542b8",
   "metadata": {},
   "outputs": [
    {
     "name": "stdout",
     "output_type": "stream",
     "text": [
      "[Epoch:    1] cost = 0.00146525982\n",
      "[Epoch:    2] cost = 0.0050283419\n",
      "[Epoch:    3] cost = 0.00094223558\n",
      "[Epoch:    4] cost = 0.00305797323\n",
      "[Epoch:    5] cost = 0.00212557614\n",
      "[Epoch:    6] cost = 0.00117845729\n",
      "[Epoch:    7] cost = 0.00122580351\n",
      "[Epoch:    8] cost = 0.00386360474\n",
      "[Epoch:    9] cost = 0.000777387526\n",
      "[Epoch:   10] cost = 0.000116185576\n",
      "[Epoch:   11] cost = 3.47232599e-05\n",
      "[Epoch:   12] cost = 1.97092122e-05\n",
      "[Epoch:   13] cost = 1.49744319e-05\n",
      "[Epoch:   14] cost = 1.20063214e-05\n",
      "[Epoch:   15] cost = 9.6483891e-06\n"
     ]
    }
   ],
   "source": [
    "#epoch의 수에 따라 반복문을 반복하며 training 실행\n",
    "\n",
    "for epoch in range(training_epoch):\n",
    "    avg_cost = 0\n",
    "    \n",
    "    for X, Y in data_loader:\n",
    "        X = X.to(device)\n",
    "        Y = Y.to(device)\n",
    "        \n",
    "        optimizer.zero_grad()\n",
    "        hypothesis = model(X)\n",
    "        cost = criterion(hypothesis, Y)\n",
    "        cost.backward()\n",
    "        optimizer.step()\n",
    "        \n",
    "        avg_cost += cost / total_batch\n",
    "        \n",
    "    print('[Epoch: {:>4}] cost = {:>.9}'.format(epoch +1, avg_cost))"
   ]
  },
  {
   "cell_type": "code",
   "execution_count": 117,
   "id": "e022a7b6",
   "metadata": {},
   "outputs": [
    {
     "name": "stdout",
     "output_type": "stream",
     "text": [
      "Accuracy: 0.9893999695777893\n"
     ]
    },
    {
     "name": "stderr",
     "output_type": "stream",
     "text": [
      "C:\\Users\\18\\anaconda3\\envs\\pytorch\\lib\\site-packages\\torchvision\\datasets\\mnist.py:67: UserWarning: test_data has been renamed data\n",
      "  warnings.warn(\"test_data has been renamed data\")\n",
      "C:\\Users\\18\\anaconda3\\envs\\pytorch\\lib\\site-packages\\torchvision\\datasets\\mnist.py:57: UserWarning: test_labels has been renamed targets\n",
      "  warnings.warn(\"test_labels has been renamed targets\")\n"
     ]
    }
   ],
   "source": [
    "with torch.no_grad():\n",
    "    X_test = mnist_test.test_data.view(len(mnist_test),1,28,28).float().to(device)\n",
    "    Y_test = mnist_test.test_labels.to(device)\n",
    "    \n",
    "    prediction = model(X_test)\n",
    "    correct_prediction = torch.argmax(prediction, 1) == Y_test\n",
    "    accuracy = correct_prediction.float().mean()\n",
    "    print('Accuracy:', accuracy.item())"
   ]
  },
  {
   "cell_type": "code",
   "execution_count": null,
   "id": "596e375e",
   "metadata": {},
   "outputs": [],
   "source": []
  }
 ],
 "metadata": {
  "kernelspec": {
   "display_name": "Python 3 (ipykernel)",
   "language": "python",
   "name": "python3"
  },
  "language_info": {
   "codemirror_mode": {
    "name": "ipython",
    "version": 3
   },
   "file_extension": ".py",
   "mimetype": "text/x-python",
   "name": "python",
   "nbconvert_exporter": "python",
   "pygments_lexer": "ipython3",
   "version": "3.8.12"
  }
 },
 "nbformat": 4,
 "nbformat_minor": 5
}
